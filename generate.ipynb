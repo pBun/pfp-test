{
 "cells": [
  {
   "cell_type": "code",
   "execution_count": 6,
   "metadata": {},
   "outputs": [],
   "source": [
    "from PIL import Image \n",
    "from IPython.display import display \n",
    "import random\n",
    "import json\n",
    "import os\n",
    "import glob"
   ]
  },
  {
   "cell_type": "code",
   "execution_count": 7,
   "metadata": {},
   "outputs": [],
   "source": [
    "PROJECT_NAME = 'PFP Test'\n",
    "TOTAL_IMAGES = 100 # Number of random unique images we want to generate\n",
    "METADATA_PATH = './metadata/'\n",
    "IMAGES_PATH = './images/'\n",
    "METADATA_FILE_NAME = 'all-traits.json'"
   ]
  },
  {
   "cell_type": "code",
   "execution_count": 8,
   "metadata": {},
   "outputs": [],
   "source": [
    "# Clean up generated files\n",
    "\n",
    "for dir in [IMAGES_PATH, METADATA_PATH]:\n",
    "    files = glob.glob(dir + '/**/*', recursive=True)\n",
    "    for f in files:\n",
    "        try:\n",
    "            os.remove(f)\n",
    "        except OSError as e:\n",
    "            print(\"Error: %s : %s\" % (f, e.strerror))\n",
    "    if not os.path.exists(dir):\n",
    "        os.mkdir(dir)"
   ]
  },
  {
   "cell_type": "code",
   "execution_count": 9,
   "metadata": {},
   "outputs": [],
   "source": [
    "# Each image is made up a series of traits\n",
    "# The weightings for each trait drive the rarity and add up to 100%\n",
    "\n",
    "background = [\"Blue\", \"Orange\", \"Purple\", \"Red\", \"Yellow\"] \n",
    "background_weights = [30, 40, 15, 5, 10]\n",
    "\n",
    "circle = [\"Blue\", \"Green\", \"Orange\", \"Red\", \"Yellow\"] \n",
    "circle_weights = [30, 40, 15, 5, 10]\n",
    "\n",
    "square = [\"Blue\", \"Green\", \"Orange\", \"Red\", \"Yellow\"] \n",
    "square_weights = [30, 40, 15, 5, 10]\n",
    "\n",
    "# Dictionary variable for each trait. \n",
    "# Eech trait corresponds to its file name\n",
    "\n",
    "background_files = {\n",
    "    \"Blue\": \"blue\",\n",
    "    \"Orange\": \"orange\",\n",
    "    \"Purple\": \"purple\",\n",
    "    \"Red\": \"red\",\n",
    "    \"Yellow\": \"yellow\",\n",
    "}\n",
    "\n",
    "circle_files = {\n",
    "    \"Blue\": \"blue-circle\",\n",
    "    \"Green\": \"green-circle\",\n",
    "    \"Orange\": \"orange-circle\",\n",
    "    \"Red\": \"red-circle\",\n",
    "    \"Yellow\": \"yellow-circle\"   \n",
    "}\n",
    "\n",
    "square_files = {\n",
    "    \"Blue\": \"blue-square\",\n",
    "    \"Green\": \"green-square\",\n",
    "    \"Orange\": \"orange-square\",\n",
    "    \"Red\": \"red-square\",\n",
    "    \"Yellow\": \"yellow-square\"  \n",
    "          \n",
    "}"
   ]
  },
  {
   "cell_type": "code",
   "execution_count": 10,
   "metadata": {},
   "outputs": [],
   "source": [
    "## Generate Traits\n",
    "\n",
    "allImages = [] \n",
    "\n",
    "# A recursive function to generate unique image combinations\n",
    "def create_new_image():\n",
    "    \n",
    "    new_image = {} #\n",
    "\n",
    "    # For each trait category, select a random trait based on the weightings \n",
    "    new_image [\"Background\"] = random.choices(background, background_weights)[0]\n",
    "    new_image [\"Circle\"] = random.choices(circle, circle_weights)[0]\n",
    "    new_image [\"Square\"] = random.choices(square, square_weights)[0]\n",
    "    \n",
    "    if new_image in allImages:\n",
    "        return create_new_image()\n",
    "    else:\n",
    "        return new_image\n",
    "    \n",
    "    \n",
    "# Generate the unique combinations based on trait weightings\n",
    "for i in range(TOTAL_IMAGES): \n",
    "    \n",
    "    new_trait_image = create_new_image()\n",
    "    \n",
    "    allImages.append(new_trait_image)\n",
    "    \n"
   ]
  },
  {
   "cell_type": "code",
   "execution_count": 11,
   "metadata": {},
   "outputs": [
    {
     "name": "stdout",
     "output_type": "stream",
     "text": [
      "Are all images unique? True\n"
     ]
    }
   ],
   "source": [
    "# Returns true if all images are unique\n",
    "def all_images_unique(allImages):\n",
    "    seen = list()\n",
    "    return not any(i in seen or seen.append(i) for i in allImages)\n",
    "\n",
    "print(\"Are all images unique?\", all_images_unique(allImages))"
   ]
  },
  {
   "cell_type": "code",
   "execution_count": 12,
   "metadata": {},
   "outputs": [],
   "source": [
    "# Add token Id to each image\n",
    "i = 0\n",
    "for item in allImages:\n",
    "    item[\"tokenId\"] = str(i)\n",
    "    i = i + 1"
   ]
  },
  {
   "cell_type": "code",
   "execution_count": 13,
   "metadata": {
    "tags": []
   },
   "outputs": [
    {
     "name": "stdout",
     "output_type": "stream",
     "text": [
      "[{'Background': 'Blue', 'Circle': 'Green', 'Square': 'Green', 'tokenId': '0'}, {'Background': 'Blue', 'Circle': 'Yellow', 'Square': 'Yellow', 'tokenId': '1'}, {'Background': 'Yellow', 'Circle': 'Red', 'Square': 'Green', 'tokenId': '2'}, {'Background': 'Purple', 'Circle': 'Blue', 'Square': 'Green', 'tokenId': '3'}, {'Background': 'Purple', 'Circle': 'Orange', 'Square': 'Green', 'tokenId': '4'}, {'Background': 'Blue', 'Circle': 'Blue', 'Square': 'Orange', 'tokenId': '5'}, {'Background': 'Purple', 'Circle': 'Green', 'Square': 'Green', 'tokenId': '6'}, {'Background': 'Orange', 'Circle': 'Yellow', 'Square': 'Green', 'tokenId': '7'}, {'Background': 'Blue', 'Circle': 'Blue', 'Square': 'Blue', 'tokenId': '8'}, {'Background': 'Blue', 'Circle': 'Blue', 'Square': 'Yellow', 'tokenId': '9'}, {'Background': 'Orange', 'Circle': 'Green', 'Square': 'Green', 'tokenId': '10'}, {'Background': 'Purple', 'Circle': 'Orange', 'Square': 'Blue', 'tokenId': '11'}, {'Background': 'Orange', 'Circle': 'Green', 'Square': 'Blue', 'tokenId': '12'}, {'Background': 'Yellow', 'Circle': 'Green', 'Square': 'Blue', 'tokenId': '13'}, {'Background': 'Red', 'Circle': 'Blue', 'Square': 'Yellow', 'tokenId': '14'}, {'Background': 'Orange', 'Circle': 'Blue', 'Square': 'Green', 'tokenId': '15'}, {'Background': 'Orange', 'Circle': 'Yellow', 'Square': 'Blue', 'tokenId': '16'}, {'Background': 'Blue', 'Circle': 'Green', 'Square': 'Blue', 'tokenId': '17'}, {'Background': 'Yellow', 'Circle': 'Blue', 'Square': 'Orange', 'tokenId': '18'}, {'Background': 'Orange', 'Circle': 'Blue', 'Square': 'Blue', 'tokenId': '19'}, {'Background': 'Blue', 'Circle': 'Green', 'Square': 'Red', 'tokenId': '20'}, {'Background': 'Blue', 'Circle': 'Yellow', 'Square': 'Blue', 'tokenId': '21'}, {'Background': 'Orange', 'Circle': 'Orange', 'Square': 'Blue', 'tokenId': '22'}, {'Background': 'Yellow', 'Circle': 'Yellow', 'Square': 'Orange', 'tokenId': '23'}, {'Background': 'Orange', 'Circle': 'Green', 'Square': 'Yellow', 'tokenId': '24'}, {'Background': 'Red', 'Circle': 'Green', 'Square': 'Blue', 'tokenId': '25'}, {'Background': 'Orange', 'Circle': 'Orange', 'Square': 'Orange', 'tokenId': '26'}, {'Background': 'Orange', 'Circle': 'Blue', 'Square': 'Orange', 'tokenId': '27'}, {'Background': 'Purple', 'Circle': 'Yellow', 'Square': 'Blue', 'tokenId': '28'}, {'Background': 'Yellow', 'Circle': 'Orange', 'Square': 'Blue', 'tokenId': '29'}, {'Background': 'Orange', 'Circle': 'Red', 'Square': 'Blue', 'tokenId': '30'}, {'Background': 'Orange', 'Circle': 'Orange', 'Square': 'Green', 'tokenId': '31'}, {'Background': 'Purple', 'Circle': 'Yellow', 'Square': 'Yellow', 'tokenId': '32'}, {'Background': 'Orange', 'Circle': 'Green', 'Square': 'Orange', 'tokenId': '33'}, {'Background': 'Blue', 'Circle': 'Orange', 'Square': 'Green', 'tokenId': '34'}, {'Background': 'Yellow', 'Circle': 'Orange', 'Square': 'Yellow', 'tokenId': '35'}, {'Background': 'Purple', 'Circle': 'Green', 'Square': 'Orange', 'tokenId': '36'}, {'Background': 'Blue', 'Circle': 'Yellow', 'Square': 'Green', 'tokenId': '37'}, {'Background': 'Blue', 'Circle': 'Orange', 'Square': 'Yellow', 'tokenId': '38'}, {'Background': 'Purple', 'Circle': 'Blue', 'Square': 'Blue', 'tokenId': '39'}, {'Background': 'Blue', 'Circle': 'Green', 'Square': 'Orange', 'tokenId': '40'}, {'Background': 'Purple', 'Circle': 'Blue', 'Square': 'Red', 'tokenId': '41'}, {'Background': 'Purple', 'Circle': 'Red', 'Square': 'Green', 'tokenId': '42'}, {'Background': 'Purple', 'Circle': 'Green', 'Square': 'Blue', 'tokenId': '43'}, {'Background': 'Orange', 'Circle': 'Green', 'Square': 'Red', 'tokenId': '44'}, {'Background': 'Blue', 'Circle': 'Blue', 'Square': 'Green', 'tokenId': '45'}, {'Background': 'Yellow', 'Circle': 'Green', 'Square': 'Orange', 'tokenId': '46'}, {'Background': 'Red', 'Circle': 'Red', 'Square': 'Blue', 'tokenId': '47'}, {'Background': 'Yellow', 'Circle': 'Blue', 'Square': 'Blue', 'tokenId': '48'}, {'Background': 'Blue', 'Circle': 'Yellow', 'Square': 'Orange', 'tokenId': '49'}, {'Background': 'Blue', 'Circle': 'Orange', 'Square': 'Orange', 'tokenId': '50'}, {'Background': 'Blue', 'Circle': 'Red', 'Square': 'Orange', 'tokenId': '51'}, {'Background': 'Blue', 'Circle': 'Orange', 'Square': 'Blue', 'tokenId': '52'}, {'Background': 'Blue', 'Circle': 'Red', 'Square': 'Blue', 'tokenId': '53'}, {'Background': 'Yellow', 'Circle': 'Yellow', 'Square': 'Green', 'tokenId': '54'}, {'Background': 'Orange', 'Circle': 'Orange', 'Square': 'Yellow', 'tokenId': '55'}, {'Background': 'Orange', 'Circle': 'Red', 'Square': 'Green', 'tokenId': '56'}, {'Background': 'Purple', 'Circle': 'Blue', 'Square': 'Orange', 'tokenId': '57'}, {'Background': 'Orange', 'Circle': 'Red', 'Square': 'Yellow', 'tokenId': '58'}, {'Background': 'Orange', 'Circle': 'Blue', 'Square': 'Red', 'tokenId': '59'}, {'Background': 'Blue', 'Circle': 'Red', 'Square': 'Red', 'tokenId': '60'}, {'Background': 'Red', 'Circle': 'Blue', 'Square': 'Red', 'tokenId': '61'}, {'Background': 'Blue', 'Circle': 'Red', 'Square': 'Green', 'tokenId': '62'}, {'Background': 'Purple', 'Circle': 'Green', 'Square': 'Yellow', 'tokenId': '63'}, {'Background': 'Purple', 'Circle': 'Green', 'Square': 'Red', 'tokenId': '64'}, {'Background': 'Orange', 'Circle': 'Blue', 'Square': 'Yellow', 'tokenId': '65'}, {'Background': 'Purple', 'Circle': 'Orange', 'Square': 'Yellow', 'tokenId': '66'}, {'Background': 'Blue', 'Circle': 'Blue', 'Square': 'Red', 'tokenId': '67'}, {'Background': 'Yellow', 'Circle': 'Blue', 'Square': 'Green', 'tokenId': '68'}, {'Background': 'Yellow', 'Circle': 'Green', 'Square': 'Red', 'tokenId': '69'}, {'Background': 'Yellow', 'Circle': 'Green', 'Square': 'Yellow', 'tokenId': '70'}, {'Background': 'Purple', 'Circle': 'Red', 'Square': 'Orange', 'tokenId': '71'}, {'Background': 'Orange', 'Circle': 'Yellow', 'Square': 'Yellow', 'tokenId': '72'}, {'Background': 'Red', 'Circle': 'Orange', 'Square': 'Blue', 'tokenId': '73'}, {'Background': 'Purple', 'Circle': 'Yellow', 'Square': 'Green', 'tokenId': '74'}, {'Background': 'Yellow', 'Circle': 'Blue', 'Square': 'Yellow', 'tokenId': '75'}, {'Background': 'Red', 'Circle': 'Green', 'Square': 'Orange', 'tokenId': '76'}, {'Background': 'Blue', 'Circle': 'Orange', 'Square': 'Red', 'tokenId': '77'}, {'Background': 'Yellow', 'Circle': 'Green', 'Square': 'Green', 'tokenId': '78'}, {'Background': 'Red', 'Circle': 'Blue', 'Square': 'Green', 'tokenId': '79'}, {'Background': 'Yellow', 'Circle': 'Orange', 'Square': 'Orange', 'tokenId': '80'}, {'Background': 'Blue', 'Circle': 'Green', 'Square': 'Yellow', 'tokenId': '81'}, {'Background': 'Orange', 'Circle': 'Yellow', 'Square': 'Red', 'tokenId': '82'}, {'Background': 'Red', 'Circle': 'Blue', 'Square': 'Orange', 'tokenId': '83'}, {'Background': 'Yellow', 'Circle': 'Yellow', 'Square': 'Blue', 'tokenId': '84'}, {'Background': 'Red', 'Circle': 'Green', 'Square': 'Green', 'tokenId': '85'}, {'Background': 'Orange', 'Circle': 'Yellow', 'Square': 'Orange', 'tokenId': '86'}, {'Background': 'Red', 'Circle': 'Orange', 'Square': 'Yellow', 'tokenId': '87'}, {'Background': 'Yellow', 'Circle': 'Yellow', 'Square': 'Yellow', 'tokenId': '88'}, {'Background': 'Red', 'Circle': 'Blue', 'Square': 'Blue', 'tokenId': '89'}, {'Background': 'Yellow', 'Circle': 'Red', 'Square': 'Red', 'tokenId': '90'}, {'Background': 'Purple', 'Circle': 'Orange', 'Square': 'Red', 'tokenId': '91'}, {'Background': 'Orange', 'Circle': 'Orange', 'Square': 'Red', 'tokenId': '92'}, {'Background': 'Yellow', 'Circle': 'Blue', 'Square': 'Red', 'tokenId': '93'}, {'Background': 'Red', 'Circle': 'Yellow', 'Square': 'Yellow', 'tokenId': '94'}, {'Background': 'Purple', 'Circle': 'Orange', 'Square': 'Orange', 'tokenId': '95'}, {'Background': 'Red', 'Circle': 'Yellow', 'Square': 'Red', 'tokenId': '96'}, {'Background': 'Yellow', 'Circle': 'Orange', 'Square': 'Green', 'tokenId': '97'}, {'Background': 'Purple', 'Circle': 'Red', 'Square': 'Blue', 'tokenId': '98'}, {'Background': 'Orange', 'Circle': 'Red', 'Square': 'Orange', 'tokenId': '99'}]\n"
     ]
    }
   ],
   "source": [
    "print(allImages)"
   ]
  },
  {
   "cell_type": "code",
   "execution_count": 14,
   "metadata": {},
   "outputs": [
    {
     "name": "stdout",
     "output_type": "stream",
     "text": [
      "{'Blue': 23, 'Orange': 24, 'Purple': 20, 'Red': 13, 'Yellow': 20}\n",
      "{'Blue': 24, 'Green': 23, 'Orange': 21, 'Red': 14, 'Yellow': 18}\n",
      "{'Blue': 23, 'Green': 22, 'Orange': 20, 'Red': 16, 'Yellow': 19}\n"
     ]
    }
   ],
   "source": [
    "# Get Trait Counts\n",
    "\n",
    "background_count = {}\n",
    "for item in background:\n",
    "    background_count[item] = 0\n",
    "    \n",
    "circle_count = {}\n",
    "for item in circle:\n",
    "    circle_count[item] = 0\n",
    "\n",
    "square_count = {}\n",
    "for item in square:\n",
    "    square_count[item] = 0\n",
    "\n",
    "for image in allImages:\n",
    "    background_count[image[\"Background\"]] += 1\n",
    "    circle_count[image[\"Circle\"]] += 1\n",
    "    square_count[image[\"Square\"]] += 1\n",
    "    \n",
    "print(background_count)\n",
    "print(circle_count)\n",
    "print(square_count)"
   ]
  },
  {
   "cell_type": "code",
   "execution_count": 15,
   "metadata": {},
   "outputs": [],
   "source": [
    "#### Generate Metadata for all Traits \n",
    "with open(METADATA_PATH + METADATA_FILE_NAME, 'w') as outfile:\n",
    "    json.dump(allImages, outfile, indent=4)"
   ]
  },
  {
   "cell_type": "code",
   "execution_count": 16,
   "metadata": {},
   "outputs": [],
   "source": [
    "  \n",
    "    \n",
    "#### Generate Images    \n",
    "for item in allImages:\n",
    "\n",
    "    im1 = Image.open(f'./trait-layers/backgrounds/{background_files[item[\"Background\"]]}.jpg').convert('RGBA')\n",
    "    im2 = Image.open(f'./trait-layers/circles/{circle_files[item[\"Circle\"]]}.png').convert('RGBA')\n",
    "    im3 = Image.open(f'./trait-layers/squares/{square_files[item[\"Square\"]]}.png').convert('RGBA')\n",
    "\n",
    "    #Create each composite\n",
    "    com1 = Image.alpha_composite(im1, im2)\n",
    "    com2 = Image.alpha_composite(com1, im3)\n",
    "\n",
    "    #Convert to RGB\n",
    "    rgb_im = com2.convert('RGB')\n",
    "    file_name = item[\"tokenId\"] + \".png\"\n",
    "    rgb_im.save(IMAGES_PATH + file_name)\n",
    "    \n",
    "    \n",
    "    "
   ]
  },
  {
   "cell_type": "code",
   "execution_count": 17,
   "metadata": {},
   "outputs": [],
   "source": [
    "#### Generate Metadata for each Image    \n",
    "\n",
    "IMAGES_BASE_URI = 'ipfs://QmarMdXMpqMAp8cipgTkaZW7SAQNEREEw2kfL4NwjLfk5p/'\n",
    "\n",
    "f = open(METADATA_PATH + METADATA_FILE_NAME,) \n",
    "data = json.load(f)\n",
    "\n",
    "def getAttribute(key, value):\n",
    "    return {\n",
    "        \"trait_type\": key,\n",
    "        \"value\": value\n",
    "    }\n",
    "for i in data:\n",
    "    tokenId = i['tokenId']\n",
    "    tokenIdTemplate = '0' * len(str(TOTAL_IMAGES))\n",
    "    nameId = tokenIdTemplate[:-len(tokenId)] + tokenId\n",
    "    token = {\n",
    "        \"image\": IMAGES_BASE_URI + tokenId + '.png',\n",
    "        \"name\": PROJECT_NAME + ' ' + nameId,\n",
    "        \"attributes\": []\n",
    "    }\n",
    "    token[\"attributes\"].append(getAttribute(\"Background\", i[\"Background\"]))\n",
    "    token[\"attributes\"].append(getAttribute(\"Circle\", i[\"Circle\"]))\n",
    "    token[\"attributes\"].append(getAttribute(\"Square\", i[\"Square\"]))\n",
    "\n",
    "    with open(METADATA_PATH + str(tokenId) + '.json', 'w') as outfile:\n",
    "        json.dump(token, outfile, indent=4)\n",
    "f.close()"
   ]
  }
 ],
 "metadata": {
  "interpreter": {
   "hash": "3d65f8beab89bca824669a8319117cabe601d9aca9a71aad8efeb42336828120"
  },
  "kernelspec": {
   "display_name": "Python 3 (ipykernel)",
   "language": "python",
   "name": "python3"
  },
  "language_info": {
   "codemirror_mode": {
    "name": "ipython",
    "version": 3
   },
   "file_extension": ".py",
   "mimetype": "text/x-python",
   "name": "python",
   "nbconvert_exporter": "python",
   "pygments_lexer": "ipython3",
   "version": "3.10.1"
  }
 },
 "nbformat": 4,
 "nbformat_minor": 4
}
